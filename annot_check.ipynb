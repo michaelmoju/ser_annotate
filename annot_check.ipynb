{
 "cells": [
  {
   "cell_type": "code",
   "execution_count": 1,
   "metadata": {},
   "outputs": [
    {
     "data": {
      "text/plain": [
       "'/media/moju/data/work/ser'"
      ]
     },
     "execution_count": 1,
     "metadata": {},
     "output_type": "execute_result"
    }
   ],
   "source": [
    "import os\n",
    "import sys\n",
    "import json\n",
    "import stanza\n",
    "from tqdm import tqdm_notebook as tqdm\n",
    "\n",
    "w_dir = %pwd\n",
    "work_dir = os.path.dirname(w_dir)\n",
    "work_dir"
   ]
  },
  {
   "cell_type": "code",
   "execution_count": 2,
   "metadata": {},
   "outputs": [],
   "source": [
    "sys.path.append(w_dir+'/ser_annotate')"
   ]
  },
  {
   "cell_type": "code",
   "execution_count": 3,
   "metadata": {},
   "outputs": [
    {
     "name": "stderr",
     "output_type": "stream",
     "text": [
      "2020-05-29 18:35:38 INFO: \"zh\" is an alias for \"zh-hans\"\n",
      "2020-05-29 18:35:38 INFO: Loading these models for language: zh-hans (Simplified_Chinese):\n",
      "=========================\n",
      "| Processor | Package   |\n",
      "-------------------------\n",
      "| tokenize  | gsdsimp   |\n",
      "| ner       | ontonotes |\n",
      "=========================\n",
      "\n",
      "2020-05-29 18:35:38 INFO: Use device: cpu\n",
      "2020-05-29 18:35:38 INFO: Loading: tokenize\n",
      "2020-05-29 18:35:38 INFO: Loading: ner\n",
      "2020-05-29 18:35:38 INFO: Done loading processors!\n"
     ]
    }
   ],
   "source": [
    "from ser_annotate.std import *\n",
    "from ser_annotate import config\n",
    "from ser_annotate.dataset_reader.io_cano import CanoDict, CrpCano"
   ]
  },
  {
   "cell_type": "code",
   "execution_count": 58,
   "metadata": {},
   "outputs": [],
   "source": [
    "test_file = config.SSQA_ANNOT / \"PubB-G6a-0302.json1\""
   ]
  },
  {
   "cell_type": "code",
   "execution_count": 13,
   "metadata": {},
   "outputs": [],
   "source": [
    "from ser_annotate.dataset_reader.io_SSQA import str_lesson2parags, str_lesson2st"
   ]
  },
  {
   "cell_type": "code",
   "execution_count": 66,
   "metadata": {},
   "outputs": [],
   "source": [
    "def annot2se(annot_fp):\n",
    "    def has_keyword(s, labels):\n",
    "        for label in labels:\n",
    "            assert label[2] == 'Keyword'\n",
    "            l_start = label[0]\n",
    "            l_end = label[1] \n",
    "            if s[0] <= l_start <= s[1]:\n",
    "                assert s[0] <= l_end <= s[1], 'keyword cross sentence!!'\n",
    "                return True\n",
    "        return False             \n",
    "    \n",
    "    annots = jseq_load(test_file)\n",
    "    myCrpCano = CrpCano()\n",
    "    myCrpCano.load_annot_ssqa(annots)\n",
    "    out_q_list = []\n",
    "    for qid, q_annot in myCrpCano.items():\n",
    "        se = []\n",
    "        st_parags = str_lesson2st(q_annot.c_text)\n",
    "        for p_i, p in enumerate(st_parags):\n",
    "            for s_i, s in enumerate(p[2]):\n",
    "                if has_keyword(s, q_annot.labels):\n",
    "                    se.append([p_i, s_i])\n",
    "#         assert se, \"No supporting evidence in qid:{}\".format(qid)\n",
    "        out_q_list.append({'qid': qid, 'qtext': q_annot.qtext, 'context': st_parags, 'se': se})\n",
    "    return out_q_list"
   ]
  },
  {
   "cell_type": "code",
   "execution_count": 67,
   "metadata": {},
   "outputs": [],
   "source": [
    "out = annot2ser(test_file)"
   ]
  },
  {
   "cell_type": "code",
   "execution_count": 68,
   "metadata": {},
   "outputs": [
    {
     "data": {
      "text/plain": [
       "{'qid': 'PubB-G6a-0302.jsonl-06-002408',\n",
       " 'qtext': '「文文民調中心」問卷調查目前臺灣的家庭型態，發現「大家庭」是目前臺灣社會主要的家庭結構型態。',\n",
       " 'context': [[0, 9, [[0, 9, '第三單元社會的變遷']]],\n",
       "  [12, 19, [[12, 19, '家庭兩性新關係']]],\n",
       "  [22, 31, [[22, 31, '＜家庭型態的轉變＞']]],\n",
       "  [34, 64, [[34, 50, '工業化不但改變了我們的生活方式，'], [52, 64, '連帶的也影響家庭的型態。']]],\n",
       "  [67,\n",
       "   140,\n",
       "   [[67, 78, '首先是居住型態的改變。'],\n",
       "    [80, 92, '以前農業社會中的大家庭，'],\n",
       "    [94, 102, '現在已經很少見，'],\n",
       "    [104, 120, '取而代之的是三代同堂的折衷家庭，'],\n",
       "    [122, 140, '和一對夫婦與未婚子女所組成的小家庭。']]],\n",
       "  [143,\n",
       "   315,\n",
       "   [[143, 147, '近年來，'],\n",
       "    [149, 162, '由於離婚或意外事故等因素，'],\n",
       "    [164, 174, '產生了許多單親家庭；'],\n",
       "    [176, 185, '而父母到都市就業，'],\n",
       "    [187, 211, '將小孩託付給祖父母照顧的隔代教養家庭也時有所見；'],\n",
       "    [213, 233, '而因異國婚姻所組成的家庭也有增加的趨勢。'],\n",
       "    [235, 249, '這些家庭在經濟和子女教養上，'],\n",
       "    [251, 261, '需要社會更多的關注，'],\n",
       "    [263, 266, '因此，'],\n",
       "    [268, 285, '政府應積極訂定完善的社會福利制度，'],\n",
       "    [287, 297, '設立足夠的托兒機構，'],\n",
       "    [299, 315, '協助家庭解決年幼子女的教養問題。']]],\n",
       "  [318, 333, [[318, 333, '夫婦與未婚子女所組成的小家庭。']]],\n",
       "  [336, 361, [[336, 341, '由祖父母、'], [343, 361, '父母與子女所組成三代同堂的折衷家庭。']]],\n",
       "  [364, 382, [[364, 382, '大家庭是以往農業社會常見的家庭形態。']]],\n",
       "  [385, 410, [[385, 410, '民國50～99年臺閩地區每戶家庭平均人口數變遷圖。']]],\n",
       "  [413, 445, [[413, 433, '社區重視單親暨隔代教養家庭子女課業問題，'], [435, 445, '特別舉辦輔導說明會。']]],\n",
       "  [448, 479, [[448, 464, '嘉義縣東石鄉成立新移民關懷據點，'], [466, 479, '協助新移民適應環境和生活。']]],\n",
       "  [482,\n",
       "   528,\n",
       "   [[482, 496, '考量到新移民的交通便利問題，'],\n",
       "    [498, 516, '一些縣市政府便設立新移民機車考照班，'],\n",
       "    [518, 528, '協助新移民考取駕照。']]],\n",
       "  [531, 556, [[531, 556, '兒童福利服務中心舉辦「單親家庭親子捏陶創作」活動。']]],\n",
       "  [559, 589, [[559, 566, '＊觀點小視窗：'], [568, 589, '隔代教養家庭由祖父母與孫子女所組成的家庭。']]],\n",
       "  [592, 601, [[592, 601, '＜性別平等向前走＞']]],\n",
       "  [604,\n",
       "   690,\n",
       "   [[604, 616, '隨著女性教育程度的提高，'],\n",
       "    [618, 630, '以及性別平等觀念的提倡，'],\n",
       "    [632, 643, '女性就業人口快速增加，'],\n",
       "    [645, 658, '在各行各業都有傑出的表現。'],\n",
       "    [660, 676, '尤其在傳統上屬於男性的專業工作，'],\n",
       "    [678, 690, '也有愈來愈多的女性投入。']]],\n",
       "  [693,\n",
       "   799,\n",
       "   [[693, 696, '但是，'],\n",
       "    [698, 705, '傳統「男主外、'],\n",
       "    [707, 713, '女主內」的，'],\n",
       "    [715, 728, '仍造成部分女性很大的困擾。'],\n",
       "    [730, 741, '在講求性別平等的今天，'],\n",
       "    [743, 758, '女性外出就業已經是社會的趨勢。'],\n",
       "    [760, 765, '在家庭中，'],\n",
       "    [767, 779, '除了男女需要互相尊重外，'],\n",
       "    [781, 799, '更應該將家務視為全家一起分擔的責任。']]],\n",
       "  [802,\n",
       "   854,\n",
       "   [[802, 806, '近年來，'],\n",
       "    [808, 824, '臺灣地區女性從事專業工作的比例，'],\n",
       "    [826, 833, '有增加的趨勢；'],\n",
       "    [835, 846, '而靠體力的女性工作者，'],\n",
       "    [848, 854, '則逐漸減少。']]],\n",
       "  [857,\n",
       "   907,\n",
       "   [[857, 880, '女性就業人口已成為推動臺灣社會發展的重要力量，'],\n",
       "    [882, 907, '而傳統中屬於女性的專業工作也有愈來愈多的男性投入。']]],\n",
       "  [910, 938, [[910, 923, '新好男人巧扮「袋鼠男人」，'], [925, 938, '體會孕婦在職場打拼的辛苦。']]],\n",
       "  [941,\n",
       "   983,\n",
       "   [[941, 969, '政府制定家庭暴力防治法及設置「113全國婦幼保護專線」，'], [971, 983, '以保護婦女與兒童的安全。']]],\n",
       "  [986, 1007, [[986, 995, '夫妻參與產前講座，'], [997, 1007, '共同迎接家中新成員。']]],\n",
       "  [1010, 1035, [[1010, 1021, '性別工作平等法的實施，'], [1023, 1035, '保障婦女在工作上的權益。']]],\n",
       "  [1038,\n",
       "   1102,\n",
       "   [[1038, 1045, '＊觀點小視窗：'],\n",
       "    [1047, 1071, '性別平等指每個人都應站在公平的立足點上發展潛能，'],\n",
       "    [1073, 1078, '不因生理、'],\n",
       "    [1080, 1083, '心理、'],\n",
       "    [1085, 1102, '社會及文化上的性別因素而受到限制。']]],\n",
       "  [1105, 1128, [[1105, 1111, '＊問題討論：'], [1113, 1128, '你知道有哪些保障婦女的法律嗎？']]],\n",
       "  [1131, 1131, [[1131, 1131, '']]]],\n",
       " 'se': [[4, 1], [4, 2]]}"
      ]
     },
     "execution_count": 68,
     "metadata": {},
     "output_type": "execute_result"
    }
   ],
   "source": [
    "out[0]"
   ]
  },
  {
   "cell_type": "markdown",
   "metadata": {},
   "source": [
    "# Create check excel"
   ]
  },
  {
   "cell_type": "code",
   "execution_count": 29,
   "metadata": {},
   "outputs": [],
   "source": [
    "from pathlib import PurePath\n",
    "from ser_annotate.dataset_reader.io_SSQA import xml2st"
   ]
  },
  {
   "cell_type": "code",
   "execution_count": 27,
   "metadata": {},
   "outputs": [
    {
     "data": {
      "text/plain": [
       "'PubB-G3a-0301'"
      ]
     },
     "execution_count": 27,
     "metadata": {},
     "output_type": "execute_result"
    }
   ],
   "source": [
    "PurePath('/media/moju/data/work/ser/ser_annotate/data/SSQA/Elementary_Social_Studies_v3.0/Test/PubB-G3a-0301.xml').stem"
   ]
  },
  {
   "cell_type": "code",
   "execution_count": 30,
   "metadata": {},
   "outputs": [],
   "source": [
    "myFid, out_parags, myLessonTxt, q_dict = xml2st('/media/moju/data/work/ser/ser_annotate/data/SSQA/Elementary_Social_Studies_v3.0/Test/PubB-G3a-0301.xml')"
   ]
  },
  {
   "cell_type": "code",
   "execution_count": 31,
   "metadata": {},
   "outputs": [
    {
     "data": {
      "text/plain": [
       "'PubB-G3a-0301'"
      ]
     },
     "execution_count": 31,
     "metadata": {},
     "output_type": "execute_result"
    }
   ],
   "source": [
    "myFid"
   ]
  },
  {
   "cell_type": "code",
   "execution_count": 34,
   "metadata": {},
   "outputs": [
    {
     "data": {
      "text/plain": [
       "dict_keys(['true-false', 'multiple-choice', 'multiple-select'])"
      ]
     },
     "execution_count": 34,
     "metadata": {},
     "output_type": "execute_result"
    }
   ],
   "source": [
    "q_dict.keys()"
   ]
  },
  {
   "cell_type": "code",
   "execution_count": 48,
   "metadata": {},
   "outputs": [],
   "source": [
    "test_fps = list_fps(config.SSQA_XML_DEV)"
   ]
  },
  {
   "cell_type": "code",
   "execution_count": 49,
   "metadata": {},
   "outputs": [],
   "source": [
    "df_list = []\n",
    "for fp in test_fps:\n",
    "    myFid, out_parags, myLessonTxt, q_dict = xml2st(fp)\n",
    "    df_list.append([myFid, 'None', 'False', 0, len(q_dict['true-false']), len(q_dict['multiple-choice']), len(q_dict['multiple-select'])])"
   ]
  },
  {
   "cell_type": "code",
   "execution_count": 50,
   "metadata": {},
   "outputs": [],
   "source": [
    "import pandas as pd"
   ]
  },
  {
   "cell_type": "code",
   "execution_count": 51,
   "metadata": {},
   "outputs": [],
   "source": [
    "df_check = pd.DataFrame(df_list ,columns=['did', 'Annotator', 'check', 'Time', 'true-false', 'multiple-choice', 'multiple-select'])"
   ]
  },
  {
   "cell_type": "code",
   "execution_count": 52,
   "metadata": {},
   "outputs": [],
   "source": [
    "df_check.to_excel(\"check_dev.xlsx\")  "
   ]
  },
  {
   "cell_type": "code",
   "execution_count": null,
   "metadata": {},
   "outputs": [],
   "source": []
  }
 ],
 "metadata": {
  "kernelspec": {
   "display_name": "Python 3",
   "language": "python",
   "name": "python3"
  },
  "language_info": {
   "codemirror_mode": {
    "name": "ipython",
    "version": 3
   },
   "file_extension": ".py",
   "mimetype": "text/x-python",
   "name": "python",
   "nbconvert_exporter": "python",
   "pygments_lexer": "ipython3",
   "version": "3.7.7"
  }
 },
 "nbformat": 4,
 "nbformat_minor": 4
}
