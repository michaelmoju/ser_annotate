{
 "cells": [
  {
   "cell_type": "code",
   "execution_count": 1,
   "metadata": {},
   "outputs": [],
   "source": [
    "import json\n",
    "import os"
   ]
  },
  {
   "cell_type": "code",
   "execution_count": 22,
   "metadata": {},
   "outputs": [],
   "source": [
    "def get_json_in_path(fp):\n",
    "    files = []\n",
    "    for file in os.listdir(data_path):\n",
    "        if file.endswith('.json'):\n",
    "            files.append(data_path+file)\n",
    "    return files"
   ]
  },
  {
   "cell_type": "code",
   "execution_count": 24,
   "metadata": {},
   "outputs": [
    {
     "data": {
      "text/plain": [
       "['./data/FGC_release_A_labeled.json',\n",
       " './data/FGC_release_B_labeled.json',\n",
       " './data/FGC_release_C_labeled.json']"
      ]
     },
     "execution_count": 24,
     "metadata": {},
     "output_type": "execute_result"
    }
   ],
   "source": [
    "files = get_json_in_path('./data/')\n",
    "files"
   ]
  },
  {
   "cell_type": "code",
   "execution_count": 8,
   "metadata": {},
   "outputs": [],
   "source": [
    "def read_jsonl(fp):\n",
    "    out_data = []\n",
    "    with open(fp) as f:\n",
    "        for line in f:\n",
    "            d = json.loads(line)\n",
    "            out_data.append(d)\n",
    "    return out_data"
   ]
  },
  {
   "cell_type": "code",
   "execution_count": 11,
   "metadata": {},
   "outputs": [],
   "source": [
    "def read_json(fp):\n",
    "    with open(fp) as f:\n",
    "        out_data = json.load(f)\n",
    "    return out_data"
   ]
  },
  {
   "cell_type": "code",
   "execution_count": 13,
   "metadata": {},
   "outputs": [],
   "source": [
    "data0 = read_json(files[0])"
   ]
  },
  {
   "cell_type": "code",
   "execution_count": 14,
   "metadata": {},
   "outputs": [
    {
     "data": {
      "text/plain": [
       "746"
      ]
     },
     "execution_count": 14,
     "metadata": {},
     "output_type": "execute_result"
    }
   ],
   "source": [
    "len(data0)"
   ]
  },
  {
   "cell_type": "code",
   "execution_count": 15,
   "metadata": {},
   "outputs": [
    {
     "data": {
      "text/plain": [
       "{'text': 'D001Q01,基礎題, 蘇軾（1037年1月8日－1101年8月24日），眉州眉山（今四川省眉山市）人，北宋時著名的文學家、政治家、藝術家、醫學家。字子瞻，一字和仲，號東坡居士、鐵冠道人。嘉佑二年進士，累官至端明殿學士兼翰林學士，禮部尚書。南宋理學方熾時，加賜諡號文忠，複追贈太師。有《東坡先生大全集》及《東坡樂府》詞集傳世，宋人王宗稷收其作品，編有《蘇文忠公全集》。\\n其散文、詩、詞、賦均有成就，且善書法和繪畫，是文學藝術史上的通才，也是公認韻文散文造詣皆比較傑出的大家。蘇軾的散文為唐宋四家（韓愈、柳宗元、歐蘇）之末，與唐代的古文運動發起者韓愈並稱為「韓潮蘇海」，也與歐陽修並稱「歐蘇」；更與父親蘇洵、弟蘇轍合稱「三蘇」，父子三人，同列唐宋八大家。蘇軾之詩與黃庭堅並稱「蘇黃」，又與陸游並稱「蘇陸」；其詞「以詩入詞」，首開詞壇「豪放」一派，振作了晚唐、五代以來綺靡的西崑體餘風。後世與南宋辛棄疾並稱「蘇辛」，惟蘇軾故作豪放，其實清朗；其賦亦頗有名氣，最知名者為貶謫期間借題發揮寫的前後《赤壁賦》。宋代每逢科考常出現其文命題之考試，故當時學者曰：「蘇文熟，喫羊肉、蘇文生，嚼菜羹」。藝術方面，書法名列「蘇、黃、米、蔡」北宋四大書法家（宋四家）之首；其畫則開創了湖州畫派；並在題畫文學史上佔有舉足輕重的地位。, Q:蘇東坡在中國歷史上，是哪一個朝代的人？, A:北宋',\n",
       " 'annotations': [{'user': 1,\n",
       "   'end_offset': 15,\n",
       "   'label': 86,\n",
       "   'start_offset': 13},\n",
       "  {'user': 1, 'end_offset': 89, 'label': 86, 'start_offset': 85},\n",
       "  {'user': 1, 'end_offset': 55, 'label': 86, 'start_offset': 53},\n",
       "  {'user': 6, 'end_offset': 15, 'label': 86, 'start_offset': 13},\n",
       "  {'user': 6, 'end_offset': 89, 'label': 86, 'start_offset': 85},\n",
       "  {'user': 6, 'end_offset': 55, 'label': 86, 'start_offset': 53}],\n",
       " 'annotation_approver': None,\n",
       " 'meta': {},\n",
       " 'id': 12414}"
      ]
     },
     "execution_count": 15,
     "metadata": {},
     "output_type": "execute_result"
    }
   ],
   "source": [
    "data0[0]"
   ]
  },
  {
   "cell_type": "code",
   "execution_count": 16,
   "metadata": {},
   "outputs": [
    {
     "data": {
      "text/plain": [
       "431"
      ]
     },
     "execution_count": 16,
     "metadata": {},
     "output_type": "execute_result"
    }
   ],
   "source": [
    "data1 = read_json(files[1])\n",
    "len(data1)"
   ]
  },
  {
   "cell_type": "code",
   "execution_count": null,
   "metadata": {},
   "outputs": [],
   "source": [
    "def annot2jsonl()"
   ]
  },
  {
   "cell_type": "code",
   "execution_count": 21,
   "metadata": {},
   "outputs": [
    {
     "data": {
      "text/plain": [
       "{'text': 'D251Q01,基礎題, \"戰國末期,有一位慷慨赴義、壯烈成仁的荊軻,在易水河邊唱了一首短歌,跟送行的人訣別。那時候,正是大陸北方的深秋。易水河上的西風,吹起一片寒波。灰暗的天色,枯黃的野草,好像隱藏著無限悲憶的情感。 \\n\\n一清早,易水河邊已經來了幾個人,都是要為那視死如歸的英雄荆轲送行的。大家都知道荊軻這一去泰國,再也不能生還了。主人是燕國的太子丹,在河邊擺開著簡單的早宴。他所帶來的衛士,每個人都改穿了白衣。另外還有荊軻的好友高漸離,也是一位英雄,一臉剛強堅定的神色,手中提著簡單的樂器——筑。大家都心情沉重的不說話,有的默默坐著,有的翘首盼望,靜候荊軻到來。\\n「來了!來了!」在一片呼聲中,兩個人騎著馬一齊來到:前面是英勇雄壯的荊軻,後面是他的助手秦舞陽,他們都穿著燕國專使的衣服。這兩人為了幫助燕國,反抗暴秦,情願犧牲自己的生命,到秦國去行刺秦王。\\n太子丹走近荊軻,想要說幾句送別的話,卻哽咽著一句也說不出來。他勉強忍著盈眶的熱淚,向荊軻和秦舞陽敬酒。\\n荊軻有堅定的決心,生死早已不放在心上,仍然英氣勃勃,飲酒吃肉,談笑自如。每個人都來向荊軻敬酒,只有高漸離 忽然取出筑來,擊出音調高亢的樂曲,在雄壯堅決中,隱隱含著生離死別的哀傷。  \\n荊軻、秦舞陽雄赳赴的站起身,向太子丹躬身辭別。荊軻轉身向高漸離打個手勢, 高漸離擊筑的音調忽然急轉成悲壯。荊軻和著筑聲,大步向前走,引吭高歌:風蕭蕭今易水寒,壯士一去兮不復還! \\n歌聲未歇,荊軻、秦舞陽躍上馬背, 向西馳去,一路黃塵滾滾,漸漸的遠得看不見了。\\n只有那悲壯的歌聲,好像還繚繞在蕭蕭的西風裡,迴盪在冷冷的易水上。\"\\n, Q:荊軻是哪一個朝代的人？, A:戰國末期 or 戰國',\n",
       " 'annotations': [{'user': 7,\n",
       "   'start_offset': 14,\n",
       "   'label': 98,\n",
       "   'end_offset': 18},\n",
       "  {'user': 7, 'start_offset': 32, 'label': 98, 'end_offset': 34}],\n",
       " 'annotation_approver': None,\n",
       " 'id': 15009,\n",
       " 'meta': {}}"
      ]
     },
     "execution_count": 21,
     "metadata": {},
     "output_type": "execute_result"
    }
   ],
   "source": [
    "data1[0]"
   ]
  },
  {
   "cell_type": "code",
   "execution_count": 18,
   "metadata": {},
   "outputs": [
    {
     "data": {
      "text/plain": [
       "200"
      ]
     },
     "execution_count": 18,
     "metadata": {},
     "output_type": "execute_result"
    }
   ],
   "source": [
    "data2 = read_json(files[2])\n",
    "len(data2)"
   ]
  },
  {
   "cell_type": "code",
   "execution_count": 19,
   "metadata": {},
   "outputs": [
    {
     "data": {
      "text/plain": [
       "{'id': 15440,\n",
       " 'text': 'D058Q07,進階題, 2018年國際足總世界盃為第21屆國際足總世界盃的賽事，於2018年6月14日至7月15日在俄羅斯舉行，共進行64場賽事。\\n2018年國際足總世界盃在外圍賽會選出31支國家或地區足球代表隊參與世界盃決賽圈，本屆世界盃外圍賽是首次所有國際足總209個成員國全體參與，賽事於2015年3月正式展開直至2017年11月結束。除辛巴威與印尼違反了國際足總章程，因此無緣參與世界盃外圍賽。\\n四屆世界盃冠軍得主義大利隊意外的於歐洲區預選賽附加賽被瑞典隊淘汰，是該隊六十年來的首次缺席；而另一傳統強隊荷蘭隊則早於預選賽即被淘汰；而此前連續七屆盃賽進入決賽階段的美國隊亦爆冷無緣此次盃賽；而南美傳統勁旅智利隊亦於預選賽被淘汰出局。\\n本屆世界盃揭幕戰，主辦國俄羅斯以5:0擊敗沙烏地阿拉伯，除延續主辦國首戰不敗的戰績外，也創下84年來主辦國首戰的最佳紀錄（1934年世界盃義大利以7:1擊敗美國）。\\n日本在小組賽第一輪以2:1擊敗哥倫比亞，成為世界盃史上第一次打敗南美球隊的亞洲球隊。南韓在分組賽第三輪，以2:0擊敗衛冕冠軍德國，創下多項新紀錄，(1)是第一隊擊敗衛冕冠軍的亞洲球隊 ，(2)是第一隊能打敗德國隊的亞洲球隊 ，(3)是第一隊對上德國隊單場能不失球的亞洲球隊。\\n過去連續四屆都進入四強的上屆冠軍德國隊，今屆分組賽中表現欠佳，僅獲得1勝2負，未能晉身16強，成為連續第三屆未能從分組賽勝出的衛冕冠軍\\n本屆是自1934年世界盃以來四強名單首次沒有巴西、德國、義大利及阿根廷四隊出席世界盃場次最多的球隊。比利時以2-0擊敗英格蘭奪得季軍，是該隊歷來最佳的世界盃成績。最後，法國以 4–2 擊敗克羅埃西亞，獲得了本次世界盃的冠軍。, Q:有哪些隊伍在預選賽就被淘汰而無緣參與2018世界盃足球賽?(文本中), A:義大利隊、荷蘭隊、美國隊及智利隊 or  義大利、荷蘭、美國及智利',\n",
       " 'annotations': [{'label': 99,\n",
       "   'start_offset': 212,\n",
       "   'end_offset': 216,\n",
       "   'user': 6},\n",
       "  {'label': 99, 'start_offset': 233, 'end_offset': 235, 'user': 6},\n",
       "  {'label': 99, 'start_offset': 256, 'end_offset': 259, 'user': 6},\n",
       "  {'label': 99, 'start_offset': 267, 'end_offset': 269, 'user': 6},\n",
       "  {'label': 99, 'start_offset': 292, 'end_offset': 298, 'user': 6},\n",
       "  {'label': 99, 'start_offset': 306, 'end_offset': 309, 'user': 6},\n",
       "  {'label': 99, 'start_offset': 315, 'end_offset': 317, 'user': 6},\n",
       "  {'label': 99, 'start_offset': 286, 'end_offset': 289, 'user': 6},\n",
       "  {'label': 99, 'start_offset': 311, 'end_offset': 314, 'user': 6},\n",
       "  {'label': 99, 'start_offset': 223, 'end_offset': 226, 'user': 6},\n",
       "  {'label': 99, 'start_offset': 262, 'end_offset': 265, 'user': 6}],\n",
       " 'meta': {},\n",
       " 'annotation_approver': None}"
      ]
     },
     "execution_count": 19,
     "metadata": {},
     "output_type": "execute_result"
    }
   ],
   "source": [
    "data2[0]"
   ]
  },
  {
   "cell_type": "code",
   "execution_count": null,
   "metadata": {},
   "outputs": [],
   "source": []
  }
 ],
 "metadata": {
  "kernelspec": {
   "display_name": "Python 3",
   "language": "python",
   "name": "python3"
  },
  "language_info": {
   "codemirror_mode": {
    "name": "ipython",
    "version": 3
   },
   "file_extension": ".py",
   "mimetype": "text/x-python",
   "name": "python",
   "nbconvert_exporter": "python",
   "pygments_lexer": "ipython3",
   "version": "3.7.7"
  }
 },
 "nbformat": 4,
 "nbformat_minor": 4
}
