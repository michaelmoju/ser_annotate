{
 "cells": [
  {
   "cell_type": "code",
   "execution_count": 1,
   "metadata": {},
   "outputs": [
    {
     "data": {
      "text/plain": [
       "'/media/moju/data/work/ser'"
      ]
     },
     "execution_count": 1,
     "metadata": {},
     "output_type": "execute_result"
    }
   ],
   "source": [
    "import os\n",
    "import sys\n",
    "import json\n",
    "import stanza\n",
    "from tqdm import tqdm\n",
    "\n",
    "w_dir = %pwd\n",
    "work_dir = os.path.dirname(w_dir)\n",
    "work_dir"
   ]
  },
  {
   "cell_type": "code",
   "execution_count": 2,
   "metadata": {},
   "outputs": [],
   "source": [
    "sys.path.append(w_dir+'/ser_annotate')"
   ]
  },
  {
   "cell_type": "code",
   "execution_count": 3,
   "metadata": {},
   "outputs": [
    {
     "name": "stderr",
     "output_type": "stream",
     "text": [
      "2020-04-28 17:44:05 INFO: \"zh\" is an alias for \"zh-hans\"\n",
      "2020-04-28 17:44:05 INFO: Loading these models for language: zh-hans (Simplified_Chinese):\n",
      "=========================\n",
      "| Processor | Package   |\n",
      "-------------------------\n",
      "| tokenize  | gsdsimp   |\n",
      "| ner       | ontonotes |\n",
      "=========================\n",
      "\n",
      "2020-04-28 17:44:05 INFO: Use device: cpu\n",
      "2020-04-28 17:44:05 INFO: Loading: tokenize\n",
      "2020-04-28 17:44:05 INFO: Loading: ner\n",
      "2020-04-28 17:44:05 INFO: Done loading processors!\n"
     ]
    }
   ],
   "source": [
    "from ser_annotate.dataset_reader.ssqa_old_bench import read_old_benchmark\n",
    "from ser_annotate.dataset_reader.ssqa_xml import ssqa_xml2txt\n",
    "from ser_annotate import config\n",
    "from ser_annotate.dataset_reader.dataset import CanoDict"
   ]
  },
  {
   "cell_type": "code",
   "execution_count": 27,
   "metadata": {},
   "outputs": [
    {
     "name": "stderr",
     "output_type": "stream",
     "text": [
      "ssqa_old_bench.py(115): #Lesson:27\n",
      "ssqa_old_bench.py(116): #Question:207\n"
     ]
    }
   ],
   "source": [
    "benchs = read_old_benchmark(config.SSQA_OLD_BENCH_TEST)"
   ]
  },
  {
   "cell_type": "code",
   "execution_count": 28,
   "metadata": {},
   "outputs": [
    {
     "ename": "KeyError",
     "evalue": "'PubB-G6a-0302'",
     "output_type": "error",
     "traceback": [
      "\u001b[0;31m---------------------------------------------------------------------------\u001b[0m",
      "\u001b[0;31mKeyError\u001b[0m                                  Traceback (most recent call last)",
      "\u001b[0;32m<ipython-input-28-d5bdae94172e>\u001b[0m in \u001b[0;36m<module>\u001b[0;34m\u001b[0m\n\u001b[0;32m----> 1\u001b[0;31m \u001b[0mbenchs\u001b[0m\u001b[0;34m[\u001b[0m\u001b[0;34m'PubB-G6a-0302'\u001b[0m\u001b[0;34m]\u001b[0m\u001b[0;34m[\u001b[0m\u001b[0;36m1\u001b[0m\u001b[0;34m]\u001b[0m\u001b[0;34m\u001b[0m\u001b[0;34m\u001b[0m\u001b[0m\n\u001b[0m",
      "\u001b[0;31mKeyError\u001b[0m: 'PubB-G6a-0302'"
     ]
    }
   ],
   "source": [
    " benchs['PubB-G6a-0302'][1]"
   ]
  },
  {
   "cell_type": "code",
   "execution_count": 29,
   "metadata": {},
   "outputs": [],
   "source": [
    "def inspect_old_bench(benches):\n",
    "    num_p = 0\n",
    "    num_s = 0\n",
    "    num_q = 0\n",
    "    num_l = len(benches)\n",
    "\n",
    "    for lesson_id, lesson in benches.items():\n",
    "        parags = lesson[0]\n",
    "        Qs = lesson[1]\n",
    "        \n",
    "        num_q += len(Qs)\n",
    "        num_p += len(parags)\n",
    "\n",
    "        for pid, sents in parags:\n",
    "            num_s += len(sents)\n",
    "\n",
    "    print(\"#Lesson:{}\".format(num_l))\n",
    "    print(\"#Question:{}\".format(num_q))\n",
    "    print(\"Mean #paragraphs per lesson:{}\".format(num_p/num_l))\n",
    "    print(\"Mean #sentences per paragraph:{}\".format(num_s/num_p))"
   ]
  },
  {
   "cell_type": "code",
   "execution_count": 30,
   "metadata": {},
   "outputs": [
    {
     "name": "stdout",
     "output_type": "stream",
     "text": [
      "#Lesson:27\n",
      "#Question:207\n",
      "Mean #paragraphs per lesson:28.77777777777778\n",
      "Mean #sentences per paragraph:3.6911196911196913\n"
     ]
    }
   ],
   "source": [
    "inspect_old_bench(benchs)"
   ]
  },
  {
   "cell_type": "code",
   "execution_count": 8,
   "metadata": {},
   "outputs": [],
   "source": [
    "# for qid, q_text, se in benchs['PubB-G6a-0302'][1]:\n",
    "#     print(qid)\n",
    "#     print(q_text)\n",
    "#     for parag in se:\n",
    "#         pid, p_text, s_ind = parag\n",
    "#         print(pid)\n",
    "#         print(p_text)\n",
    "#         print(s_ind)\n",
    "#     print('========')"
   ]
  },
  {
   "cell_type": "code",
   "execution_count": 9,
   "metadata": {},
   "outputs": [],
   "source": [
    "test_file = './data/SSQA/Elementary_Social_Studies_v2.9/Develop/PubB-G6a-0302.xml'"
   ]
  },
  {
   "cell_type": "code",
   "execution_count": 10,
   "metadata": {},
   "outputs": [],
   "source": [
    "parags, lessonTxt, q_dict = ssqa_xml2txt(test_file)"
   ]
  },
  {
   "cell_type": "code",
   "execution_count": 11,
   "metadata": {},
   "outputs": [
    {
     "data": {
      "text/plain": [
       "dict_keys(['true-false', 'multiple-choice', 'multiple-select'])"
      ]
     },
     "execution_count": 11,
     "metadata": {},
     "output_type": "execute_result"
    }
   ],
   "source": [
    "q_dict.keys()"
   ]
  },
  {
   "cell_type": "code",
   "execution_count": 12,
   "metadata": {},
   "outputs": [],
   "source": [
    "# lessonTxt"
   ]
  },
  {
   "cell_type": "code",
   "execution_count": 13,
   "metadata": {},
   "outputs": [],
   "source": [
    "# parags"
   ]
  },
  {
   "cell_type": "code",
   "execution_count": 14,
   "metadata": {},
   "outputs": [
    {
     "data": {
      "text/plain": [
       "{'06-002485': ('有鑒於社會上單親家庭愈來愈多，政府、社會和學校應該從哪些方面幫助單親家庭？',\n",
       "  ['學校和社會教育機構積極規畫並實施單親家長的親職教育方案',\n",
       "   '運用大眾媒體的力量，廣泛的提供單親家庭有關親職教育的資訊',\n",
       "   '不與單親家庭成員打交道',\n",
       "   '藉由社區力量和資源，建立協助單親家長的支持組織',\n",
       "   '政府制定福利方案，整合社會福利、教育、醫療、法律等服務體系，提供完整服務',\n",
       "   '政府提供生活費給單親家庭，並限制單親家長只能在家照顧小孩，不可外出工作'],\n",
       "  [0, 1, 3, 4]),\n",
       " '06-002486': ('造成近年來隔代教養家庭增多的原因有哪些？',\n",
       "  ['父母親到都市就業，將小孩託付給祖父母照顧',\n",
       "   '高齡化社會來臨，政府鼓勵祖父母協助照顧孫子女',\n",
       "   '父母親離婚，將小孩託付給祖父母照顧',\n",
       "   '每戶家庭平均人口數變少'],\n",
       "  [0, 2]),\n",
       " '06-002487': ('促使女性就業人口增加的原因有哪些？',\n",
       "  ['女性教育程度提高', '性別平等觀念的提倡', '「男主內、女主外」觀念的提倡', '男性人口大幅減少', '人口平均壽命延長'],\n",
       "  [0, 1]),\n",
       " '06-002488': ('婦女在職場遇到哪些問題時，可以依據性別工作平等法來爭取自己的權益？',\n",
       "  ['玉珍懷孕要生產了，老闆讓她放產假',\n",
       "   '水電行拒絕聘請女性職員當員工',\n",
       "   '醫學院畢業的女性在醫院擔任醫生',\n",
       "   '某五星級飯店不讓女性當主廚',\n",
       "   '客運公司拒絕任用女性當司機'],\n",
       "  [1, 3, 4])}"
      ]
     },
     "execution_count": 14,
     "metadata": {},
     "output_type": "execute_result"
    }
   ],
   "source": [
    "q_dict['multiple-select']"
   ]
  },
  {
   "cell_type": "code",
   "execution_count": 15,
   "metadata": {},
   "outputs": [],
   "source": [
    "set_list = ['Train', 'Develop', 'Test']"
   ]
  },
  {
   "cell_type": "code",
   "execution_count": 16,
   "metadata": {},
   "outputs": [],
   "source": [
    "def write_jsonl(did, ssqa_xml, out_fp):\n",
    "    parags, lessonTxt, q_dict = ssqa_xml2txt(ssqa_xml)\n",
    "    \n",
    "    out_canos = []\n",
    "    with open(out_fp, 'w') as f:\n",
    "        for qid, qa_pair in q_dict['true-false'].items():\n",
    "            cano = CanoDict()\n",
    "            cano.qid = did + '-' + qid\n",
    "            cano.c_text = lessonTxt\n",
    "            cano.q_text = qa_pair[0]\n",
    "            cano.a_list.append(qa_pair[1])\n",
    "            cano.merge_q()\n",
    "            out_canos.append(cano)\n",
    "        out_canos = out_canos[:1]\n",
    "        \n",
    "        for qid, qa_pair in q_dict['multiple-choice'].items():\n",
    "            cano = CanoDict()\n",
    "            cano.qid = did + '-' + qid\n",
    "            cano.c_text = lessonTxt\n",
    "            cano.q_text = qa_pair[0]\n",
    "            cano.choices = qa_pair[1]\n",
    "            cano.a_list = [qa_pair[1][qa_pair[2]]]\n",
    "            cano.merge_q()\n",
    "            out_canos.append(cano)\n",
    "        out_canos = out_canos[:2]    \n",
    "        \n",
    "        for qid, qa_pair in q_dict['multiple-select'].items():\n",
    "            cano = CanoDict()\n",
    "            cano.qid = did + '-' + qid\n",
    "            cano.c_text = lessonTxt\n",
    "            cano.q_text = qa_pair[0]\n",
    "            cano.choices = qa_pair[1]\n",
    "            cano.a_list = [qa_pair[1][i] for i in qa_pair[2]]\n",
    "            cano.merge_q()\n",
    "            out_canos.append(cano)\n",
    "        out_canos = out_canos[:3]    \n",
    "    \n",
    "        for cano in out_canos:\n",
    "            json.dump(cano.cano_format, f, ensure_ascii=False)\n",
    "            f.write('\\n')"
   ]
  },
  {
   "cell_type": "code",
   "execution_count": 17,
   "metadata": {},
   "outputs": [],
   "source": [
    "write_jsonl('PubB-G6a-0302', test_file, 'PubB-G6a-0302.jsonl')"
   ]
  },
  {
   "cell_type": "code",
   "execution_count": 17,
   "metadata": {},
   "outputs": [
    {
     "name": "stderr",
     "output_type": "stream",
     "text": [
      " 57%|█████▋    | 119/210 [00:01<00:01, 81.18it/s]<ipython-input-12-3c246c7e2016>(26): PubC-G3b-0602\n",
      "\t對話框:\"各組想想看，有什麼解決的方法？\">>\"我們可以寫信給區長，請他幫忙。\">>\"製作海報張貼在社區。\">>\"請學校發起淨灘活動。\"\n",
      "\t對話框:\"各組想想看，有什麼解決的方法？\"&gt;&gt;\"我們可以寫信給區長，請他幫忙。\"&gt;&gt;\"製作海報張貼在社區。\"&gt;&gt;\"請學校發起淨灘活動。\"\n",
      "\n",
      "100%|██████████| 210/210 [00:02<00:00, 79.69it/s]\n",
      " 33%|███▎      | 9/27 [00:00<00:00, 86.78it/s]"
     ]
    },
    {
     "name": "stdout",
     "output_type": "stream",
     "text": [
      "Train\n",
      "Counter({'true-false': 11131, 'multiple-choice': 4022, 'essay': 999, 'multiple-select': 191})\n"
     ]
    },
    {
     "name": "stderr",
     "output_type": "stream",
     "text": [
      "100%|██████████| 27/27 [00:00<00:00, 77.52it/s]\n",
      " 37%|███▋      | 10/27 [00:00<00:00, 97.40it/s]"
     ]
    },
    {
     "name": "stdout",
     "output_type": "stream",
     "text": [
      "Develop\n",
      "Counter({'true-false': 1508, 'multiple-choice': 789, 'essay': 208, 'multiple-select': 81})\n"
     ]
    },
    {
     "name": "stderr",
     "output_type": "stream",
     "text": [
      "100%|██████████| 27/27 [00:00<00:00, 78.91it/s]"
     ]
    },
    {
     "name": "stdout",
     "output_type": "stream",
     "text": [
      "Test\n",
      "Counter({'true-false': 1464, 'multiple-choice': 788, 'essay': 254, 'multiple-select': 68})\n"
     ]
    },
    {
     "name": "stderr",
     "output_type": "stream",
     "text": [
      "\n"
     ]
    }
   ],
   "source": [
    "q_num = 0\n",
    "\n",
    "for i_set in set_list:\n",
    "    type_counter = Counter()\n",
    "    for fp in tqdm(os.listdir(ssqa_fp+i_set)):\n",
    "        fp_c = ssqa_fp+i_set + '/' + fp\n",
    "        try:\n",
    "            p = ET.parse(fp_c).getroot()\n",
    "            assert p[0][0][1].tag == 'QAset'\n",
    "            q_num += len(p[0][0][1])\n",
    "            lesson_xml2txt(fp_c, type_counter)\n",
    "        except Exception as e:\n",
    "            print(e)\n",
    "            print(fp_c)\n",
    "    print(i_set)\n",
    "    print(type_counter)"
   ]
  },
  {
   "cell_type": "code",
   "execution_count": 18,
   "metadata": {},
   "outputs": [
    {
     "data": {
      "text/plain": [
       "21503"
      ]
     },
     "execution_count": 18,
     "metadata": {},
     "output_type": "execute_result"
    }
   ],
   "source": [
    "q_num"
   ]
  }
 ],
 "metadata": {
  "kernelspec": {
   "display_name": "Python 3",
   "language": "python",
   "name": "python3"
  },
  "language_info": {
   "codemirror_mode": {
    "name": "ipython",
    "version": 3
   },
   "file_extension": ".py",
   "mimetype": "text/x-python",
   "name": "python",
   "nbconvert_exporter": "python",
   "pygments_lexer": "ipython3",
   "version": "3.7.7"
  }
 },
 "nbformat": 4,
 "nbformat_minor": 4
}
