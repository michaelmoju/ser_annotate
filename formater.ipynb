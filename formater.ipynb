{
 "cells": [
  {
   "cell_type": "code",
   "execution_count": 1,
   "metadata": {},
   "outputs": [
    {
     "data": {
      "text/plain": [
       "'/media/moju/data/work/ser'"
      ]
     },
     "execution_count": 1,
     "metadata": {},
     "output_type": "execute_result"
    }
   ],
   "source": [
    "import os\n",
    "import sys\n",
    "import json\n",
    "import stanza\n",
    "from tqdm import tqdm\n",
    "\n",
    "w_dir = %pwd\n",
    "work_dir = os.path.dirname(w_dir)\n",
    "work_dir"
   ]
  },
  {
   "cell_type": "code",
   "execution_count": 25,
   "metadata": {},
   "outputs": [],
   "source": [
    "import xml.etree.ElementTree as ET\n",
    "import difflib\n",
    "import re\n",
    "from collections import Counter"
   ]
  },
  {
   "cell_type": "code",
   "execution_count": 3,
   "metadata": {},
   "outputs": [],
   "source": [
    "import ser_annotate.ssqa_util as Util\n",
    "from ser_annotate.std import *\n",
    "from ser_annotate.util import *"
   ]
  },
  {
   "cell_type": "code",
   "execution_count": 27,
   "metadata": {},
   "outputs": [],
   "source": [
    "_log = Logger(__name__)"
   ]
  },
  {
   "cell_type": "code",
   "execution_count": 8,
   "metadata": {},
   "outputs": [],
   "source": [
    "def read_dats(f):\n",
    "    myPs, myQs = [], []\n",
    "    myQ = []\n",
    "    for myLine in (x.rstrip() for x in f):\n",
    "        # _log.debug('>>{}<<'.format(myLine))\n",
    "        if not myLine: continue  # pass the empty line\n",
    "        if myLine[0] == 'P':  # read lesson text\n",
    "            if myQs:\n",
    "                yield myPs, myQs\n",
    "                myPs, myQs = [], []\n",
    "            myKey, myTxt = myLine.split('\\t')\n",
    "            myPs.append([myKey, myTxt])\n",
    "        elif myLine[0] == '0':\n",
    "            assert not myQ\n",
    "            myQ = myLine.split('\\t')\n",
    "            assert len(myQ) == 2\n",
    "        elif myLine[0] == 'b':\n",
    "            assert len(myQ) == 2\n",
    "            myKey, *myToks = myLine.split('\\t')\n",
    "            if len(myToks) == 1 and myToks[0] == 'NONE':\n",
    "                myQs.append(myQ)\n",
    "                myQ = []\n",
    "            else:\n",
    "                for iTok in myToks:\n",
    "                    myKey, myTxt = iTok.split()\n",
    "                    assert myKey.startswith('Pub')\n",
    "                    myQ.append([myKey, myTxt])\n",
    "                myQs.append(myQ)\n",
    "                myQ = []\n",
    "    yield myPs, myQs"
   ]
  },
  {
   "cell_type": "code",
   "execution_count": 13,
   "metadata": {},
   "outputs": [],
   "source": [
    "def get_parag_idx(myP):\n",
    "    outIdx = []\n",
    "    myKey, myTxt = myP\n",
    "    mySegTxt = string_split(myTxt)\n",
    "    outIdx.extend(list(range(0, len(mySegTxt))))\n",
    "    return outIdx"
   ]
  },
  {
   "cell_type": "code",
   "execution_count": 14,
   "metadata": {},
   "outputs": [],
   "source": [
    "def read_old_benchmark(f):\n",
    "    totQsNum = 0\n",
    "    myLessons = []\n",
    "    for i, (myPs, myQs) in enumerate(read_dats(f), 1):\n",
    "        myFid2Bens = {}\n",
    "        myFid2Parg = []\n",
    "        myBens = []\n",
    "        # lprint(len(myQs))  # the number of questions in each lesson\n",
    "        myFid = None\n",
    "        for iP in myPs:\n",
    "            myKey, myTxt = iP\n",
    "            myIdx = get_parag_idx(iP)\n",
    "            myFid2Parg.append([myKey, myIdx])\n",
    "        for iQ in myQs:\n",
    "            myKey, myTxt, *myEvidParts = iQ\n",
    "            for iEvidPart in myEvidParts:\n",
    "                a, b, c, d = iEvidPart[0].split('-')\n",
    "                if myFid is None:\n",
    "                    myFid = '{}-{}-{}'.format(a, b, c)\n",
    "                assert myFid == '{}-{}-{}'.format(a, b, c)\n",
    "                iEvidPart.append(get_idx(myPs, iEvidPart))\n",
    "            myBens.append([myKey, myTxt, myEvidParts])\n",
    "        myLessons.append([myFid2Parg, myBens])\n",
    "        totQsNum += len(myQs)\n",
    "    lprint(len(myLessons))\n",
    "    lprint(totQsNum)\n",
    "    return myLessons"
   ]
  },
  {
   "cell_type": "code",
   "execution_count": 21,
   "metadata": {},
   "outputs": [],
   "source": [
    "def get_idx(iPs, iBen):\n",
    "    outIdx = []\n",
    "    benKey, benTxt = iBen\n",
    "    benKeyNum = int(re.search('Pub.-G\\d[ab]-\\d{4}-(\\d{3})', benKey).group(1))\n",
    "    # if re.match('.*\\|{3,}.*',benTxt):\n",
    "    # lprint(\"match|||\")\n",
    "    myBenSegs = string_split(re.sub('\\|{3,}', '', benTxt))\n",
    "    iPs[benKeyNum - 1]\n",
    "    myParSegs = string_split(iPs[benKeyNum - 1][1])\n",
    "    mySeqMat = difflib.SequenceMatcher(None, myBenSegs, myParSegs)\n",
    "    for tag, i1, i2, j1, j2 in mySeqMat.get_opcodes():\n",
    "        _log.debug('{:7}   a[{}:{}] --> b[{}:{}] {!r:>8} --> {!r}'.format(\n",
    "            tag, i1, i2, j1, j2, myBenSegs[i1:i2], myParSegs[j1:j2]))\n",
    "    for tag, i1, i2, j1, j2 in mySeqMat.get_opcodes():\n",
    "        if tag == 'equal':\n",
    "            outIdx.extend(list(range(j1, j2)))\n",
    "        else:\n",
    "            if tag != 'insert':\n",
    "                raise ValueError('{}\\n{}\\n'.format(myBenSegs, myParSegs))\n",
    "    # if re.match('.*\\|{3,}.*', benTxt):\n",
    "    # lprint(outIdx)\n",
    "    return outIdx"
   ]
  },
  {
   "cell_type": "code",
   "execution_count": 22,
   "metadata": {},
   "outputs": [],
   "source": [
    "_PUNCT_SET = frozenset([\"，\", \",\", \"、\", \"；\", \"。\", \"：\", \"！\", \"？\", \"?\"])\n",
    "def string_split(str):\n",
    "    myOut = []\n",
    "    mySeg = ''\n",
    "    for iChar in str:\n",
    "        mySeg += iChar\n",
    "        if iChar in _PUNCT_SET:\n",
    "            myOut.append(mySeg)\n",
    "            mySeg = ''\n",
    "    if mySeg:\n",
    "        myOut.append(mySeg)\n",
    "    return myOut"
   ]
  },
  {
   "cell_type": "code",
   "execution_count": 29,
   "metadata": {},
   "outputs": [
    {
     "data": {
      "text/plain": [
       "['./data/SSQA/SSQA_benchmark_v3.2_0312/dev_207_HumanAnnotation_wLessonText_V.3.2',\n",
       " './data/SSQA/SSQA_benchmark_v3.2_0312/dev_207_HumanAnnotation_woLessonText_V.3.2',\n",
       " './data/SSQA/SSQA_benchmark_v3.2_0312/test_207_HumanAnnotation_wLessonText_V.3.2',\n",
       " './data/SSQA/SSQA_benchmark_v3.2_0312/test_207_HumanAnnotation_woLessonText_V.3.2',\n",
       " './data/SSQA/SSQA_benchmark_v3.2_0312/train_202_HumanAnnotation_wLessonText_V.3.2',\n",
       " './data/SSQA/SSQA_benchmark_v3.2_0312/train_202_HumanAnnotation_woLessonText_V.3.2']"
      ]
     },
     "execution_count": 29,
     "metadata": {},
     "output_type": "execute_result"
    }
   ],
   "source": [
    "list_fps('./data/SSQA/SSQA_benchmark_v3.2_0312/', '3.2')"
   ]
  },
  {
   "cell_type": "code",
   "execution_count": 31,
   "metadata": {},
   "outputs": [],
   "source": [
    "# with open('./data/SSQA/SSQA_benchmark_v3.2_0312/dev_207_HumanAnnotation_wLessonText_V.3.2') as f:\n",
    "#     read_old_benchmark(f)"
   ]
  },
  {
   "cell_type": "code",
   "execution_count": 20,
   "metadata": {},
   "outputs": [
    {
     "ename": "TypeError",
     "evalue": "read_old_benchmark() missing 1 required positional argument: 'f'",
     "output_type": "error",
     "traceback": [
      "\u001b[0;31m---------------------------------------------------------------------------\u001b[0m",
      "\u001b[0;31mTypeError\u001b[0m                                 Traceback (most recent call last)",
      "\u001b[0;32m<ipython-input-20-1a4b8fc3a1c3>\u001b[0m in \u001b[0;36m<module>\u001b[0;34m\u001b[0m\n\u001b[0;32m----> 1\u001b[0;31m \u001b[0mread_old_benchmark\u001b[0m\u001b[0;34m(\u001b[0m\u001b[0;34m)\u001b[0m\u001b[0;34m\u001b[0m\u001b[0;34m\u001b[0m\u001b[0m\n\u001b[0m",
      "\u001b[0;31mTypeError\u001b[0m: read_old_benchmark() missing 1 required positional argument: 'f'"
     ]
    }
   ],
   "source": [
    "read_old_benchmark()"
   ]
  },
  {
   "cell_type": "code",
   "execution_count": 4,
   "metadata": {},
   "outputs": [],
   "source": [
    "def _leaf2text(p):\n",
    "    assert len(p) == 0\n",
    "    myText = p.text.strip(' \\t\\r\\n')\n",
    "    insist(len(myText) > 0)\n",
    "    insist(myText == p.text)\n",
    "    insist(myText.find('\\n') < 0)\n",
    "    insist(myText.find('\\r') < 0)\n",
    "    insist(myText.find('\\t') < 0)\n",
    "    return myText"
   ]
  },
  {
   "cell_type": "code",
   "execution_count": 5,
   "metadata": {},
   "outputs": [],
   "source": [
    "def _body2dat(p, dat, xpath=''):\n",
    "    # for c in p: print(c.tag, c.attrib)\n",
    "    myXpath = xpath\n",
    "    if myXpath: myXpath += '/'\n",
    "    myXpath += p.tag\n",
    "\n",
    "    if len(p) == 0:\n",
    "        # terminal\n",
    "        dat.append((myXpath, _leaf2text(p)))\n",
    "    else:\n",
    "        # nonterminal\n",
    "        for c in p: _body2dat(c, dat, myXpath)"
   ]
  },
  {
   "cell_type": "code",
   "execution_count": 48,
   "metadata": {},
   "outputs": [],
   "source": [
    "def _qst2dat(qsts):\n",
    "    type_dict = {}\n",
    "    for q_i, q in enumerate(qsts):\n",
    "        assert q.tag == 'QA'\n",
    "        qtype = q.attrib['Type']\n",
    "        q_idx = q.attrib['idx']\n",
    "        \n",
    "        if qtype not in type_dict:\n",
    "            type_dict[qtype] = 1\n",
    "        else:\n",
    "            type_dict[qtype] += 1\n",
    "    return type_dict"
   ]
  },
  {
   "cell_type": "code",
   "execution_count": 53,
   "metadata": {},
   "outputs": [],
   "source": [
    "def lesson_xml2txt(fhs, type_counter):\n",
    "    outFh = 'Lesson.txt'\n",
    "\n",
    "    myFid, myGrad = re.search('/(Pub.-G(\\d)[ab]-\\d{4})\\.', fhs).groups()\n",
    "    # lprint(myFid)\n",
    "    tree = ET.parse(fhs)\n",
    "    p = tree.getroot()\n",
    "    for i in ['Machine-Reading-Corpus-File', 'Content', 'Unit']:\n",
    "        assert p.tag == i\n",
    "        if i != 'Unit':\n",
    "            assert len(p) == 1\n",
    "            p = p[0]\n",
    "    assert len(p) == 2  # Body, QAset\n",
    "\n",
    "    # read the lessons\n",
    "    myBodyDat = []\n",
    "    assert p[0].tag == 'Body'\n",
    "    _body2dat(p[0], myBodyDat)\n",
    "#     lprint(myBodyDat)\n",
    "    for i, (iTag, iTxt) in enumerate(myBodyDat):\n",
    "        Util.check_unescaped_text(iTxt)\n",
    "        assert iTxt.find('&') < 0\n",
    "        myTxt = Util.xml_escape(iTxt)\n",
    "        Util.check_escaped_text(myTxt)\n",
    "        if myTxt != iTxt:\n",
    "            lprint('{}\\n\\t{}\\n\\t{}\\n'.format(myFid, iTxt, myTxt))\n",
    "#         with open(outFh, 'a', encoding='utf-8') as f:\n",
    "#             f.write(myTxt + '\\n')\n",
    "        \n",
    "    # read the questions\n",
    "    myQstDat = []\n",
    "    assert p[1].tag == 'QAset'\n",
    "    q_num = int(p[1].attrib['Num_Ques'])\n",
    "    \n",
    "    assert q_num == len(p[1]), 'question num incorrect'\n",
    "    type_dict = _qst2dat(p[1])\n",
    "    type_counter.update(type_dict)"
   ]
  },
  {
   "cell_type": "code",
   "execution_count": 71,
   "metadata": {},
   "outputs": [],
   "source": [
    "ssqa_fp = './data/SSQA/Elementary_Social_Studies_v2.9/'"
   ]
  },
  {
   "cell_type": "code",
   "execution_count": 72,
   "metadata": {},
   "outputs": [],
   "source": [
    "test_file = './data/SSQA/Elementary_Social_Studies_v2.9/Test/PubB-G3a-0301.xml'"
   ]
  },
  {
   "cell_type": "code",
   "execution_count": 73,
   "metadata": {},
   "outputs": [],
   "source": [
    "type_counter = Counter()\n",
    "lesson_xml2txt(test_file, type_counter)"
   ]
  },
  {
   "cell_type": "code",
   "execution_count": 74,
   "metadata": {},
   "outputs": [],
   "source": [
    "set_list = ['Train', 'Develop', 'Test']"
   ]
  },
  {
   "cell_type": "code",
   "execution_count": 75,
   "metadata": {},
   "outputs": [
    {
     "name": "stderr",
     "output_type": "stream",
     "text": [
      " 37%|███▋      | 77/210 [00:00<00:00, 765.31it/s]<ipython-input-53-3c246c7e2016>(26): PubC-G3b-0602\n",
      "\t對話框:\"各組想想看，有什麼解決的方法？\">>\"我們可以寫信給區長，請他幫忙。\">>\"製作海報張貼在社區。\">>\"請學校發起淨灘活動。\"\n",
      "\t對話框:\"各組想想看，有什麼解決的方法？\"&gt;&gt;\"我們可以寫信給區長，請他幫忙。\"&gt;&gt;\"製作海報張貼在社區。\"&gt;&gt;\"請學校發起淨灘活動。\"\n",
      "\n",
      "100%|██████████| 210/210 [00:00<00:00, 641.01it/s]\n",
      "100%|██████████| 27/27 [00:00<00:00, 592.12it/s]\n",
      "100%|██████████| 27/27 [00:00<00:00, 599.12it/s]"
     ]
    },
    {
     "name": "stdout",
     "output_type": "stream",
     "text": [
      "Train\n",
      "Counter({'true-false': 11131, 'multiple-choice': 4022, 'essay': 999, 'multiple-select': 191})\n",
      "Develop\n",
      "Counter({'true-false': 1508, 'multiple-choice': 789, 'essay': 208, 'multiple-select': 81})\n",
      "Test\n",
      "Counter({'true-false': 1464, 'multiple-choice': 788, 'essay': 254, 'multiple-select': 68})\n"
     ]
    },
    {
     "name": "stderr",
     "output_type": "stream",
     "text": [
      "\n"
     ]
    }
   ],
   "source": [
    "q_num = 0\n",
    "\n",
    "for i_set in set_list:\n",
    "    type_counter = Counter()\n",
    "    for fp in tqdm(os.listdir(ssqa_fp+i_set)):\n",
    "        fp_c = ssqa_fp+i_set + '/' + fp\n",
    "        try:\n",
    "            p = ET.parse(fp_c).getroot()\n",
    "            assert p[0][0][1].tag == 'QAset'\n",
    "            q_num += len(p[0][0][1])\n",
    "            lesson_xml2txt(fp_c, type_counter)\n",
    "        except Exception as e:\n",
    "            print(e)\n",
    "            print(fp_c)\n",
    "    print(i_set)\n",
    "    print(type_counter)"
   ]
  },
  {
   "cell_type": "code",
   "execution_count": 245,
   "metadata": {},
   "outputs": [
    {
     "data": {
      "text/plain": [
       "21503"
      ]
     },
     "execution_count": 245,
     "metadata": {},
     "output_type": "execute_result"
    }
   ],
   "source": [
    "q_num"
   ]
  },
  {
   "cell_type": "code",
   "execution_count": 29,
   "metadata": {},
   "outputs": [],
   "source": [
    "p = ET.parse(ssqa_fp+'Develop'+'/PubB-G3a-0303.xml').getroot()"
   ]
  },
  {
   "cell_type": "code",
   "execution_count": 31,
   "metadata": {},
   "outputs": [
    {
     "data": {
      "text/plain": [
       "114"
      ]
     },
     "execution_count": 31,
     "metadata": {},
     "output_type": "execute_result"
    }
   ],
   "source": [
    "len(p[0][0][1])"
   ]
  }
 ],
 "metadata": {
  "kernelspec": {
   "display_name": "Python 3",
   "language": "python",
   "name": "python3"
  },
  "language_info": {
   "codemirror_mode": {
    "name": "ipython",
    "version": 3
   },
   "file_extension": ".py",
   "mimetype": "text/x-python",
   "name": "python",
   "nbconvert_exporter": "python",
   "pygments_lexer": "ipython3",
   "version": "3.7.7"
  }
 },
 "nbformat": 4,
 "nbformat_minor": 4
}
