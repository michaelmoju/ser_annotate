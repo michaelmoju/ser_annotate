{
 "cells": [
  {
   "cell_type": "code",
   "execution_count": 1,
   "metadata": {},
   "outputs": [
    {
     "data": {
      "text/plain": [
       "'/media/moju/data/work/ser'"
      ]
     },
     "execution_count": 1,
     "metadata": {},
     "output_type": "execute_result"
    }
   ],
   "source": [
    "import os\n",
    "import sys\n",
    "from pathlib import PurePath\n",
    "import json\n",
    "import stanza\n",
    "from tqdm import tqdm\n",
    "\n",
    "w_dir = %pwd\n",
    "work_dir = os.path.dirname(w_dir)\n",
    "work_dir"
   ]
  },
  {
   "cell_type": "code",
   "execution_count": 2,
   "metadata": {},
   "outputs": [],
   "source": [
    "sys.path.append(w_dir+'/ser_annotate')"
   ]
  },
  {
   "cell_type": "code",
   "execution_count": 3,
   "metadata": {},
   "outputs": [
    {
     "name": "stderr",
     "output_type": "stream",
     "text": [
      "2020-05-29 16:24:44 INFO: \"zh\" is an alias for \"zh-hans\"\n",
      "2020-05-29 16:24:44 INFO: Loading these models for language: zh-hans (Simplified_Chinese):\n",
      "=========================\n",
      "| Processor | Package   |\n",
      "-------------------------\n",
      "| tokenize  | gsdsimp   |\n",
      "| ner       | ontonotes |\n",
      "=========================\n",
      "\n",
      "2020-05-29 16:24:44 INFO: Use device: cpu\n",
      "2020-05-29 16:24:44 INFO: Loading: tokenize\n",
      "2020-05-29 16:24:44 INFO: Loading: ner\n",
      "2020-05-29 16:24:45 INFO: Done loading processors!\n"
     ]
    }
   ],
   "source": [
    "from ser_annotate import config\n",
    "from ser_annotate.std import *\n",
    "from ser_annotate.doccano_format import ssqa_write_doccano_jsonl\n",
    "from ser_annotate.dataset_reader.io_SSQA import xml2st"
   ]
  },
  {
   "cell_type": "code",
   "execution_count": 14,
   "metadata": {},
   "outputs": [],
   "source": [
    "xml_files = list_fps(config.SSQA_XML_DEV)"
   ]
  },
  {
   "cell_type": "code",
   "execution_count": 15,
   "metadata": {},
   "outputs": [
    {
     "data": {
      "text/plain": [
       "['/media/moju/data/work/ser/ser_annotate/data/SSQA/Elementary_Social_Studies_v3.0/Develop/PubB-G3a-0303.xml',\n",
       " '/media/moju/data/work/ser/ser_annotate/data/SSQA/Elementary_Social_Studies_v3.0/Develop/PubB-G3a-0401.xml',\n",
       " '/media/moju/data/work/ser/ser_annotate/data/SSQA/Elementary_Social_Studies_v3.0/Develop/PubB-G3a-0601.xml',\n",
       " '/media/moju/data/work/ser/ser_annotate/data/SSQA/Elementary_Social_Studies_v3.0/Develop/PubB-G3b-0303.xml',\n",
       " '/media/moju/data/work/ser/ser_annotate/data/SSQA/Elementary_Social_Studies_v3.0/Develop/PubB-G3b-0402.xml',\n",
       " '/media/moju/data/work/ser/ser_annotate/data/SSQA/Elementary_Social_Studies_v3.0/Develop/PubB-G3b-0502.xml',\n",
       " '/media/moju/data/work/ser/ser_annotate/data/SSQA/Elementary_Social_Studies_v3.0/Develop/PubB-G3b-0602.xml',\n",
       " '/media/moju/data/work/ser/ser_annotate/data/SSQA/Elementary_Social_Studies_v3.0/Develop/PubB-G4a-0203.xml',\n",
       " '/media/moju/data/work/ser/ser_annotate/data/SSQA/Elementary_Social_Studies_v3.0/Develop/PubB-G4a-0301.xml',\n",
       " '/media/moju/data/work/ser/ser_annotate/data/SSQA/Elementary_Social_Studies_v3.0/Develop/PubB-G4a-0501.xml',\n",
       " '/media/moju/data/work/ser/ser_annotate/data/SSQA/Elementary_Social_Studies_v3.0/Develop/PubB-G4a-0601.xml',\n",
       " '/media/moju/data/work/ser/ser_annotate/data/SSQA/Elementary_Social_Studies_v3.0/Develop/PubB-G4b-0103.xml',\n",
       " '/media/moju/data/work/ser/ser_annotate/data/SSQA/Elementary_Social_Studies_v3.0/Develop/PubB-G4b-0601.xml',\n",
       " '/media/moju/data/work/ser/ser_annotate/data/SSQA/Elementary_Social_Studies_v3.0/Develop/PubB-G4b-0602.xml',\n",
       " '/media/moju/data/work/ser/ser_annotate/data/SSQA/Elementary_Social_Studies_v3.0/Develop/PubB-G5a-0202.xml',\n",
       " '/media/moju/data/work/ser/ser_annotate/data/SSQA/Elementary_Social_Studies_v3.0/Develop/PubB-G5a-0301.xml',\n",
       " '/media/moju/data/work/ser/ser_annotate/data/SSQA/Elementary_Social_Studies_v3.0/Develop/PubB-G5a-0502.xml',\n",
       " '/media/moju/data/work/ser/ser_annotate/data/SSQA/Elementary_Social_Studies_v3.0/Develop/PubB-G5b-0201.xml',\n",
       " '/media/moju/data/work/ser/ser_annotate/data/SSQA/Elementary_Social_Studies_v3.0/Develop/PubB-G5b-0402.xml',\n",
       " '/media/moju/data/work/ser/ser_annotate/data/SSQA/Elementary_Social_Studies_v3.0/Develop/PubB-G6a-0201.xml',\n",
       " '/media/moju/data/work/ser/ser_annotate/data/SSQA/Elementary_Social_Studies_v3.0/Develop/PubB-G6a-0202.xml',\n",
       " '/media/moju/data/work/ser/ser_annotate/data/SSQA/Elementary_Social_Studies_v3.0/Develop/PubB-G6a-0302.xml',\n",
       " '/media/moju/data/work/ser/ser_annotate/data/SSQA/Elementary_Social_Studies_v3.0/Develop/PubB-G6a-0402.xml',\n",
       " '/media/moju/data/work/ser/ser_annotate/data/SSQA/Elementary_Social_Studies_v3.0/Develop/PubB-G6a-0602.xml',\n",
       " '/media/moju/data/work/ser/ser_annotate/data/SSQA/Elementary_Social_Studies_v3.0/Develop/PubB-G6b-0201.xml',\n",
       " '/media/moju/data/work/ser/ser_annotate/data/SSQA/Elementary_Social_Studies_v3.0/Develop/PubB-G6b-0301.xml',\n",
       " '/media/moju/data/work/ser/ser_annotate/data/SSQA/Elementary_Social_Studies_v3.0/Develop/PubB-G6b-0401.xml']"
      ]
     },
     "execution_count": 15,
     "metadata": {},
     "output_type": "execute_result"
    }
   ],
   "source": [
    "xml_files"
   ]
  },
  {
   "cell_type": "code",
   "execution_count": 16,
   "metadata": {},
   "outputs": [
    {
     "data": {
      "text/plain": [
       "27"
      ]
     },
     "execution_count": 16,
     "metadata": {},
     "output_type": "execute_result"
    }
   ],
   "source": [
    "len(xml_files)"
   ]
  },
  {
   "cell_type": "code",
   "execution_count": 17,
   "metadata": {},
   "outputs": [],
   "source": [
    "result_dir = config.RESULT_PATH / 'SSQA_v3.0_jsonl' / 'Develop'"
   ]
  },
  {
   "cell_type": "markdown",
   "metadata": {},
   "source": [
    "# Create jsonl for annotation"
   ]
  },
  {
   "cell_type": "code",
   "execution_count": 18,
   "metadata": {},
   "outputs": [
    {
     "name": "stderr",
     "output_type": "stream",
     "text": [
      "100%|██████████| 27/27 [00:00<00:00, 103.01it/s]\n"
     ]
    }
   ],
   "source": [
    "for xml_file in tqdm(xml_files):\n",
    "    did = PurePath(xml_file).stem\n",
    "    ssqa_write_doccano_jsonl(xml_file, result_dir)"
   ]
  },
  {
   "cell_type": "markdown",
   "metadata": {},
   "source": [
    "# Revise xml files"
   ]
  },
  {
   "cell_type": "code",
   "execution_count": 5,
   "metadata": {},
   "outputs": [],
   "source": [
    "import xml.etree.ElementTree as ET"
   ]
  },
  {
   "cell_type": "code",
   "execution_count": 16,
   "metadata": {},
   "outputs": [],
   "source": [
    "xml_files = list_fps(config.SSQA_XML_TRAIN)"
   ]
  },
  {
   "cell_type": "code",
   "execution_count": 9,
   "metadata": {},
   "outputs": [],
   "source": [
    "# out_fdir = '/media/moju/data/work/ser/ser_annotate/data/SSQA/Elementary_Social_Studies_v3.0/Train/'\n",
    "# for xml_file in xml_files:\n",
    "#     did = PurePath(xml_file).stem\n",
    "#     tree = ET.parse(xml_file)\n",
    "#     root = tree.getroot()\n",
    "    \n",
    "#     for choice in root.iter('Choice'):\n",
    "#         if 'lable' in choice.attrib:\n",
    "#             print(did)\n",
    "#             choice.set('label', choice.attrib['lable'])\n",
    "#             del choice.attrib['lable']\n",
    "            \n",
    "#     tree.write(out_fdir+'/'+did+'.xml', encoding=\"utf-8\")"
   ]
  },
  {
   "cell_type": "code",
   "execution_count": null,
   "metadata": {},
   "outputs": [],
   "source": []
  }
 ],
 "metadata": {
  "kernelspec": {
   "display_name": "Python 3",
   "language": "python",
   "name": "python3"
  },
  "language_info": {
   "codemirror_mode": {
    "name": "ipython",
    "version": 3
   },
   "file_extension": ".py",
   "mimetype": "text/x-python",
   "name": "python",
   "nbconvert_exporter": "python",
   "pygments_lexer": "ipython3",
   "version": "3.7.7"
  }
 },
 "nbformat": 4,
 "nbformat_minor": 4
}
