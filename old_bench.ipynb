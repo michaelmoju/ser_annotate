{
 "cells": [
  {
   "cell_type": "code",
   "execution_count": 1,
   "metadata": {},
   "outputs": [
    {
     "data": {
      "text/plain": [
       "'/media/moju/data/work/ser'"
      ]
     },
     "execution_count": 1,
     "metadata": {},
     "output_type": "execute_result"
    }
   ],
   "source": [
    "import os\n",
    "import sys\n",
    "from pathlib import PurePath\n",
    "import json\n",
    "import stanza\n",
    "from tqdm import tqdm\n",
    "\n",
    "w_dir = %pwd\n",
    "work_dir = os.path.dirname(w_dir)\n",
    "work_dir"
   ]
  },
  {
   "cell_type": "code",
   "execution_count": 2,
   "metadata": {},
   "outputs": [],
   "source": [
    "sys.path.append(w_dir+'/ser_annotate')"
   ]
  },
  {
   "cell_type": "code",
   "execution_count": 3,
   "metadata": {},
   "outputs": [
    {
     "name": "stderr",
     "output_type": "stream",
     "text": [
      "2020-06-01 14:46:24 INFO: \"zh\" is an alias for \"zh-hans\"\n",
      "2020-06-01 14:46:24 INFO: Loading these models for language: zh-hans (Simplified_Chinese):\n",
      "=========================\n",
      "| Processor | Package   |\n",
      "-------------------------\n",
      "| tokenize  | gsdsimp   |\n",
      "| ner       | ontonotes |\n",
      "=========================\n",
      "\n",
      "2020-06-01 14:46:24 INFO: Use device: cpu\n",
      "2020-06-01 14:46:24 INFO: Loading: tokenize\n",
      "2020-06-01 14:46:24 INFO: Loading: ner\n",
      "2020-06-01 14:46:25 INFO: Done loading processors!\n"
     ]
    }
   ],
   "source": [
    "from ser_annotate import config\n",
    "from ser_annotate.dataset_reader.io_cano import CanoDict\n",
    "from ser_annotate.dataset_reader.ssqa_old_bench import inspect_old_bench, read_old_benchmark\n",
    "from ser_annotate.std import *"
   ]
  },
  {
   "cell_type": "code",
   "execution_count": 4,
   "metadata": {},
   "outputs": [
    {
     "name": "stderr",
     "output_type": "stream",
     "text": [
      "ssqa_old_bench.py(113): #Lesson:27\n",
      "ssqa_old_bench.py(114): #Question:207\n"
     ]
    }
   ],
   "source": [
    "benchs = read_old_benchmark(config.SSQA_OLD_BENCH_TEST)"
   ]
  },
  {
   "cell_type": "code",
   "execution_count": 6,
   "metadata": {},
   "outputs": [
    {
     "data": {
      "text/plain": [
       "dict_keys(['PubB-G3a-0301', 'PubB-G3a-0302', 'PubB-G3a-0501', 'PubB-G3a-0502', 'PubB-G3b-0202', 'PubB-G3b-0401', 'PubB-G3b-0601', 'PubB-G4a-0401', 'PubB-G4a-0502', 'PubB-G4a-0602', 'PubB-G4b-0101', 'PubB-G4b-0202', 'PubB-G4b-0302', 'PubB-G4b-0401', 'PubB-G5a-0201', 'PubB-G5a-0203', 'PubB-G5a-0503', 'PubB-G5b-0202', 'PubB-G5b-0302', 'PubB-G5b-0503', 'PubB-G6a-0303', 'PubB-G6a-0403', 'PubB-G6a-0501', 'PubB-G6a-0601', 'PubB-G6b-0103', 'PubB-G6b-0303', 'PubB-G6b-0403'])"
      ]
     },
     "execution_count": 6,
     "metadata": {},
     "output_type": "execute_result"
    }
   ],
   "source": [
    "benchs.keys()"
   ]
  },
  {
   "cell_type": "code",
   "execution_count": 5,
   "metadata": {},
   "outputs": [
    {
     "ename": "KeyError",
     "evalue": "'PubB-G6a-0302'",
     "output_type": "error",
     "traceback": [
      "\u001b[0;31m---------------------------------------------------------------------------\u001b[0m",
      "\u001b[0;31mKeyError\u001b[0m                                  Traceback (most recent call last)",
      "\u001b[0;32m<ipython-input-5-d5bdae94172e>\u001b[0m in \u001b[0;36m<module>\u001b[0;34m\u001b[0m\n\u001b[0;32m----> 1\u001b[0;31m \u001b[0mbenchs\u001b[0m\u001b[0;34m[\u001b[0m\u001b[0;34m'PubB-G6a-0302'\u001b[0m\u001b[0;34m]\u001b[0m\u001b[0;34m[\u001b[0m\u001b[0;36m1\u001b[0m\u001b[0;34m]\u001b[0m\u001b[0;34m\u001b[0m\u001b[0;34m\u001b[0m\u001b[0m\n\u001b[0m",
      "\u001b[0;31mKeyError\u001b[0m: 'PubB-G6a-0302'"
     ]
    }
   ],
   "source": [
    "benchs['PubB-G6a-0302'][1]"
   ]
  },
  {
   "cell_type": "code",
   "execution_count": 6,
   "metadata": {},
   "outputs": [
    {
     "name": "stdout",
     "output_type": "stream",
     "text": [
      "#Lesson:27\n",
      "#Question:207\n",
      "Mean #paragraphs per lesson:32.44444444444444\n",
      "Mean #sentences per paragraph:3.584474885844749\n"
     ]
    }
   ],
   "source": [
    "inspect_old_bench(benchs)"
   ]
  },
  {
   "cell_type": "code",
   "execution_count": 7,
   "metadata": {},
   "outputs": [
    {
     "name": "stdout",
     "output_type": "stream",
     "text": [
      "06-002408\n",
      "「文文民調中心」問卷調查目前臺灣的家庭型態，發現「大家庭」是目前臺灣社會主要的家庭結構型態。\n",
      "PubB-G6a-0302-005\n",
      "以前農業社會中的大家庭，現在已經很少見，取而代之的是3代同堂的折衷家庭，和1對夫婦與未婚子女所組成的小家庭。\n",
      "[1, 2, 3, 4]\n",
      "========\n",
      "06-002413\n",
      "在大學學測考試後，小恬考得很好，她的志願是進入醫學院就讀，但是她的爸媽不同意，理由是女性不適合當醫生。\n",
      "PubB-G6a-0302-017\n",
      "隨著女性教育程度的提高，以及性別平等觀念的提倡，女性就業人口快速增加，在各行各業都有傑出的表現。尤其在傳統上屬於男性的專業工作，也有愈來愈多的女性投入。\n",
      "[0, 1, 2, 3, 4, 5]\n",
      "========\n",
      "06-002421\n",
      "父母親在外地工作，而由祖父母負起教養小孩責任的家庭，叫做「單親家庭」。\n",
      "PubB-G6a-0302-006\n",
      "而父母到都市就業，將小孩託付給祖父母照顧的隔代教養家庭也時有所見；\n",
      "[3, 4]\n",
      "========\n",
      "06-002430\n",
      "現代社會裡的家庭型態以大家庭居多。\n",
      "PubB-G6a-0302-005\n",
      "以前農業社會中的大家庭，現在已經很少見，\n",
      "[1, 2]\n",
      "========\n",
      "06-002438\n",
      "現代婦女雖然教育水準提高，但從事專業工作的比例卻一直在減少。\n",
      "PubB-G6a-0302-017\n",
      "隨著女性教育程度的提高，\n",
      "[0]\n",
      "PubB-G6a-0302-019\n",
      "近年來，臺灣地區女性從事專業工作的比例，有增加的趨勢；\n",
      "[0, 1, 2]\n",
      "========\n",
      "06-002442\n",
      "受到兒童教養費用壓力的影響，僅有一份收入的家庭通常較難負擔生活所需，而這樣的問題在單親家庭中更顯得嚴重，也使單親家庭的教育問題成為社會隱憂。\n",
      "PubB-G6a-0302-006\n",
      "由於離婚或意外事故等因素，產生了許多單親家庭；而父母到都市就業，將小孩託付給祖父母照顧的隔代教養家庭也時有所見；而因異國婚姻所組成的家庭也有增加的趨勢。這些家庭在經濟和子女教養上，需要社會更多的關注，因此，政府應積極訂定完善的社會福利制度，設立足夠的托兒機構，協助家庭解決年幼子女的教養問題。\n",
      "[1, 2, 3, 4, 5, 6, 7, 8, 9, 10, 11]\n",
      "========\n",
      "06-002496\n",
      "現代婦女隨著教育程度提高，已能從事較專業的職業，並且表現傑出。\n",
      "PubB-G6a-0302-017\n",
      "隨著女性教育程度的提高，以及性別平等觀念的提倡，女性就業人口快速增加，在各行各業都有傑出的表現。尤其在傳統上屬於男性的專業工作，也有愈來愈多的女性投入。\n",
      "[0, 1, 2, 3, 4, 5]\n",
      "========\n",
      "06-002500\n",
      "因為女性念的書不多，所以有些較專業、需要技能的工作，她們無法從事。\n",
      "PubB-G6a-0302-017\n",
      "隨著女性教育程度的提高，\n",
      "[0]\n",
      "PubB-G6a-0302-019\n",
      "臺灣地區女性從事專業工作的比例，有增加的趨勢；\n",
      "[1, 2]\n",
      "========\n",
      "06-002506\n",
      "護士工作需要細心、耐心，男性做不來，也不願意做。\n",
      "PubB-G6a-0302-020\n",
      "而傳統中屬於女性的專業工作也有愈來愈多的男性投入。\n",
      "[1]\n",
      "========\n",
      "06-002513\n",
      "臺灣家庭型態的改變是受到人口老化的影響。\n",
      "PubB-G6a-0302-004\n",
      "工業化不但改變了我們的生活方式，連帶的也影響家庭的型態。\n",
      "[0, 1]\n",
      "========\n",
      "06-002514\n",
      "在現代社會中，數量日趨減少的家庭型態是隔代教養家庭。\n",
      "PubB-G6a-0302-005\n",
      "以前農業社會中的大家庭，現在已經很少見，\n",
      "[1, 2]\n",
      "PubB-G6a-0302-006\n",
      "而父母到都市就業，將小孩託付給祖父母照顧的隔代教養家庭也時有所見；\n",
      "[3, 4]\n",
      "========\n"
     ]
    }
   ],
   "source": [
    "for qid, q_text, se in benchs['PubB-G6a-0302'][1]:\n",
    "    print(qid)\n",
    "    print(q_text)\n",
    "    for parag in se:\n",
    "        pid, p_text, s_ind = parag\n",
    "        print(pid)\n",
    "        print(p_text)\n",
    "        print(s_ind)\n",
    "    print('========')"
   ]
  },
  {
   "cell_type": "code",
   "execution_count": 9,
   "metadata": {},
   "outputs": [],
   "source": [
    "test_file = './data/SSQA/Elementary_Social_Studies_v2.9/Develop/PubB-G6a-0302.xml'"
   ]
  },
  {
   "cell_type": "code",
   "execution_count": 10,
   "metadata": {},
   "outputs": [],
   "source": [
    "# test_file = './data/SSQA/Elementary_Social_Studies_v2.9/Develop/PubB-G3b-0502.xml'"
   ]
  },
  {
   "cell_type": "code",
   "execution_count": 11,
   "metadata": {},
   "outputs": [],
   "source": [
    "parags, lessonTxt, q_dict = ssqa_xml2txt(test_file)"
   ]
  },
  {
   "cell_type": "code",
   "execution_count": 14,
   "metadata": {
    "collapsed": true,
    "jupyter": {
     "outputs_hidden": true
    }
   },
   "outputs": [
    {
     "data": {
      "text/plain": [
       "[[{'sid': 0, 'text': '第三單元社會的變遷', 'start': 0, 'end': 9}],\n",
       " [{'sid': 0, 'text': '家庭兩性新關係', 'start': 12, 'end': 19}],\n",
       " [{'sid': 0, 'text': '＜家庭型態的轉變＞', 'start': 22, 'end': 31}],\n",
       " [{'sid': 0, 'text': '工業化不但改變了我們的生活方式，', 'start': 34, 'end': 50},\n",
       "  {'sid': 1, 'text': '連帶的也影響家庭的型態。', 'start': 52, 'end': 64}],\n",
       " [{'sid': 0, 'text': '首先是居住型態的改變。', 'start': 67, 'end': 78},\n",
       "  {'sid': 1, 'text': '以前農業社會中的大家庭，', 'start': 80, 'end': 92},\n",
       "  {'sid': 2, 'text': '現在已經很少見，', 'start': 94, 'end': 102},\n",
       "  {'sid': 3, 'text': '取而代之的是三代同堂的折衷家庭，', 'start': 104, 'end': 120},\n",
       "  {'sid': 4, 'text': '和一對夫婦與未婚子女所組成的小家庭。', 'start': 122, 'end': 140}],\n",
       " [{'sid': 0, 'text': '近年來，', 'start': 143, 'end': 147},\n",
       "  {'sid': 1, 'text': '由於離婚或意外事故等因素，', 'start': 149, 'end': 162},\n",
       "  {'sid': 2, 'text': '產生了許多單親家庭；', 'start': 164, 'end': 174},\n",
       "  {'sid': 3, 'text': '而父母到都市就業，', 'start': 176, 'end': 185},\n",
       "  {'sid': 4, 'text': '將小孩託付給祖父母照顧的隔代教養家庭也時有所見；', 'start': 187, 'end': 211},\n",
       "  {'sid': 5, 'text': '而因異國婚姻所組成的家庭也有增加的趨勢。', 'start': 213, 'end': 233},\n",
       "  {'sid': 6, 'text': '這些家庭在經濟和子女教養上，', 'start': 235, 'end': 249},\n",
       "  {'sid': 7, 'text': '需要社會更多的關注，', 'start': 251, 'end': 261},\n",
       "  {'sid': 8, 'text': '因此，', 'start': 263, 'end': 266},\n",
       "  {'sid': 9, 'text': '政府應積極訂定完善的社會福利制度，', 'start': 268, 'end': 285},\n",
       "  {'sid': 10, 'text': '設立足夠的托兒機構，', 'start': 287, 'end': 297},\n",
       "  {'sid': 11, 'text': '協助家庭解決年幼子女的教養問題。', 'start': 299, 'end': 315}],\n",
       " [{'sid': 0, 'text': '夫婦與未婚子女所組成的小家庭。', 'start': 318, 'end': 333}],\n",
       " [{'sid': 0, 'text': '由祖父母、', 'start': 336, 'end': 341},\n",
       "  {'sid': 1, 'text': '父母與子女所組成三代同堂的折衷家庭。', 'start': 343, 'end': 361}],\n",
       " [{'sid': 0, 'text': '大家庭是以往農業社會常見的家庭形態。', 'start': 364, 'end': 382}],\n",
       " [{'sid': 0, 'text': '民國50～99年臺閩地區每戶家庭平均人口數變遷圖。', 'start': 385, 'end': 410}],\n",
       " [{'sid': 0, 'text': '社區重視單親暨隔代教養家庭子女課業問題，', 'start': 413, 'end': 433},\n",
       "  {'sid': 1, 'text': '特別舉辦輔導說明會。', 'start': 435, 'end': 445}],\n",
       " [{'sid': 0, 'text': '嘉義縣東石鄉成立新移民關懷據點，', 'start': 448, 'end': 464},\n",
       "  {'sid': 1, 'text': '協助新移民適應環境和生活。', 'start': 466, 'end': 479}],\n",
       " [{'sid': 0, 'text': '考量到新移民的交通便利問題，', 'start': 482, 'end': 496},\n",
       "  {'sid': 1, 'text': '一些縣市政府便設立新移民機車考照班，', 'start': 498, 'end': 516},\n",
       "  {'sid': 2, 'text': '協助新移民考取駕照。', 'start': 518, 'end': 528}],\n",
       " [{'sid': 0, 'text': '兒童福利服務中心舉辦「單親家庭親子捏陶創作」活動。', 'start': 531, 'end': 556}],\n",
       " [{'sid': 0, 'text': '＊觀點小視窗：', 'start': 559, 'end': 566},\n",
       "  {'sid': 1, 'text': '隔代教養家庭由祖父母與孫子女所組成的家庭。', 'start': 568, 'end': 589}],\n",
       " [{'sid': 0, 'text': '＜性別平等向前走＞', 'start': 592, 'end': 601}],\n",
       " [{'sid': 0, 'text': '隨著女性教育程度的提高，', 'start': 604, 'end': 616},\n",
       "  {'sid': 1, 'text': '以及性別平等觀念的提倡，', 'start': 618, 'end': 630},\n",
       "  {'sid': 2, 'text': '女性就業人口快速增加，', 'start': 632, 'end': 643},\n",
       "  {'sid': 3, 'text': '在各行各業都有傑出的表現。', 'start': 645, 'end': 658},\n",
       "  {'sid': 4, 'text': '尤其在傳統上屬於男性的專業工作，', 'start': 660, 'end': 676},\n",
       "  {'sid': 5, 'text': '也有愈來愈多的女性投入。', 'start': 678, 'end': 690}],\n",
       " [{'sid': 0, 'text': '但是，', 'start': 693, 'end': 696},\n",
       "  {'sid': 1, 'text': '傳統「男主外、', 'start': 698, 'end': 705},\n",
       "  {'sid': 2, 'text': '女主內」的，', 'start': 707, 'end': 713},\n",
       "  {'sid': 3, 'text': '仍造成部分女性很大的困擾。', 'start': 715, 'end': 728},\n",
       "  {'sid': 4, 'text': '在講求性別平等的今天，', 'start': 730, 'end': 741},\n",
       "  {'sid': 5, 'text': '女性外出就業已經是社會的趨勢。', 'start': 743, 'end': 758},\n",
       "  {'sid': 6, 'text': '在家庭中，', 'start': 760, 'end': 765},\n",
       "  {'sid': 7, 'text': '除了男女需要互相尊重外，', 'start': 767, 'end': 779},\n",
       "  {'sid': 8, 'text': '更應該將家務視為全家一起分擔的責任。', 'start': 781, 'end': 799}],\n",
       " [{'sid': 0, 'text': '近年來，', 'start': 802, 'end': 806},\n",
       "  {'sid': 1, 'text': '臺灣地區女性從事專業工作的比例，', 'start': 808, 'end': 824},\n",
       "  {'sid': 2, 'text': '有增加的趨勢；', 'start': 826, 'end': 833},\n",
       "  {'sid': 3, 'text': '而靠體力的女性工作者，', 'start': 835, 'end': 846},\n",
       "  {'sid': 4, 'text': '則逐漸減少。', 'start': 848, 'end': 854}],\n",
       " [{'sid': 0, 'text': '女性就業人口已成為推動臺灣社會發展的重要力量，', 'start': 857, 'end': 880},\n",
       "  {'sid': 1, 'text': '而傳統中屬於女性的專業工作也有愈來愈多的男性投入。', 'start': 882, 'end': 907}],\n",
       " [{'sid': 0, 'text': '新好男人巧扮「袋鼠男人」，', 'start': 910, 'end': 923},\n",
       "  {'sid': 1, 'text': '體會孕婦在職場打拼的辛苦。', 'start': 925, 'end': 938}],\n",
       " [{'sid': 0, 'text': '政府制定家庭暴力防治法及設置「113全國婦幼保護專線」，', 'start': 941, 'end': 969},\n",
       "  {'sid': 1, 'text': '以保護婦女與兒童的安全。', 'start': 971, 'end': 983}],\n",
       " [{'sid': 0, 'text': '夫妻參與產前講座，', 'start': 986, 'end': 995},\n",
       "  {'sid': 1, 'text': '共同迎接家中新成員。', 'start': 997, 'end': 1007}],\n",
       " [{'sid': 0, 'text': '性別工作平等法的實施，', 'start': 1010, 'end': 1021},\n",
       "  {'sid': 1, 'text': '保障婦女在工作上的權益。', 'start': 1023, 'end': 1035}],\n",
       " [{'sid': 0, 'text': '＊觀點小視窗：', 'start': 1038, 'end': 1045},\n",
       "  {'sid': 1, 'text': '性別平等指每個人都應站在公平的立足點上發展潛能，', 'start': 1047, 'end': 1071},\n",
       "  {'sid': 2, 'text': '不因生理、', 'start': 1073, 'end': 1078},\n",
       "  {'sid': 3, 'text': '心理、', 'start': 1080, 'end': 1083},\n",
       "  {'sid': 4, 'text': '社會及文化上的性別因素而受到限制。', 'start': 1085, 'end': 1102}],\n",
       " [{'sid': 0, 'text': '＊問題討論：', 'start': 1105, 'end': 1111},\n",
       "  {'sid': 1, 'text': '你知道有哪些保障婦女的法律嗎？', 'start': 1113, 'end': 1128}]]"
      ]
     },
     "execution_count": 14,
     "metadata": {},
     "output_type": "execute_result"
    }
   ],
   "source": [
    "parags"
   ]
  },
  {
   "cell_type": "code",
   "execution_count": 29,
   "metadata": {},
   "outputs": [
    {
     "data": {
      "text/plain": [
       "dict_keys(['true-false', 'multiple-choice', 'multiple-select'])"
      ]
     },
     "execution_count": 29,
     "metadata": {},
     "output_type": "execute_result"
    }
   ],
   "source": [
    "q_dict.keys()"
   ]
  },
  {
   "cell_type": "code",
   "execution_count": 30,
   "metadata": {},
   "outputs": [],
   "source": [
    "# lessonTxt"
   ]
  },
  {
   "cell_type": "code",
   "execution_count": 31,
   "metadata": {},
   "outputs": [],
   "source": [
    "# parags"
   ]
  },
  {
   "cell_type": "code",
   "execution_count": 32,
   "metadata": {},
   "outputs": [
    {
     "data": {
      "text/plain": [
       "65"
      ]
     },
     "execution_count": 32,
     "metadata": {},
     "output_type": "execute_result"
    }
   ],
   "source": [
    "len(q_dict['true-false'])"
   ]
  },
  {
   "cell_type": "code",
   "execution_count": 33,
   "metadata": {},
   "outputs": [
    {
     "data": {
      "text/plain": [
       "30"
      ]
     },
     "execution_count": 33,
     "metadata": {},
     "output_type": "execute_result"
    }
   ],
   "source": [
    "len(q_dict['multiple-choice'])"
   ]
  },
  {
   "cell_type": "code",
   "execution_count": 34,
   "metadata": {},
   "outputs": [
    {
     "data": {
      "text/plain": [
       "4"
      ]
     },
     "execution_count": 34,
     "metadata": {},
     "output_type": "execute_result"
    }
   ],
   "source": [
    "len(q_dict['multiple-select'])"
   ]
  },
  {
   "cell_type": "code",
   "execution_count": 14,
   "metadata": {},
   "outputs": [
    {
     "data": {
      "text/plain": [
       "{'06-002485': ('有鑒於社會上單親家庭愈來愈多，政府、社會和學校應該從哪些方面幫助單親家庭？',\n",
       "  ['學校和社會教育機構積極規畫並實施單親家長的親職教育方案',\n",
       "   '運用大眾媒體的力量，廣泛的提供單親家庭有關親職教育的資訊',\n",
       "   '不與單親家庭成員打交道',\n",
       "   '藉由社區力量和資源，建立協助單親家長的支持組織',\n",
       "   '政府制定福利方案，整合社會福利、教育、醫療、法律等服務體系，提供完整服務',\n",
       "   '政府提供生活費給單親家庭，並限制單親家長只能在家照顧小孩，不可外出工作'],\n",
       "  [0, 1, 3, 4]),\n",
       " '06-002486': ('造成近年來隔代教養家庭增多的原因有哪些？',\n",
       "  ['父母親到都市就業，將小孩託付給祖父母照顧',\n",
       "   '高齡化社會來臨，政府鼓勵祖父母協助照顧孫子女',\n",
       "   '父母親離婚，將小孩託付給祖父母照顧',\n",
       "   '每戶家庭平均人口數變少'],\n",
       "  [0, 2]),\n",
       " '06-002487': ('促使女性就業人口增加的原因有哪些？',\n",
       "  ['女性教育程度提高', '性別平等觀念的提倡', '「男主內、女主外」觀念的提倡', '男性人口大幅減少', '人口平均壽命延長'],\n",
       "  [0, 1]),\n",
       " '06-002488': ('婦女在職場遇到哪些問題時，可以依據性別工作平等法來爭取自己的權益？',\n",
       "  ['玉珍懷孕要生產了，老闆讓她放產假',\n",
       "   '水電行拒絕聘請女性職員當員工',\n",
       "   '醫學院畢業的女性在醫院擔任醫生',\n",
       "   '某五星級飯店不讓女性當主廚',\n",
       "   '客運公司拒絕任用女性當司機'],\n",
       "  [1, 3, 4])}"
      ]
     },
     "execution_count": 14,
     "metadata": {},
     "output_type": "execute_result"
    }
   ],
   "source": [
    "q_dict['multiple-select']"
   ]
  },
  {
   "cell_type": "code",
   "execution_count": 16,
   "metadata": {},
   "outputs": [],
   "source": [
    "out_fp = config.RESULT_PATH / \"SSQA_v2.9_jsonl\""
   ]
  },
  {
   "cell_type": "code",
   "execution_count": 20,
   "metadata": {},
   "outputs": [],
   "source": [
    "write_jsonl(test_file, out_fp)"
   ]
  },
  {
   "cell_type": "code",
   "execution_count": 15,
   "metadata": {},
   "outputs": [],
   "source": [
    "set_list = ['Train', 'Develop', 'Test']"
   ]
  },
  {
   "cell_type": "code",
   "execution_count": 17,
   "metadata": {},
   "outputs": [
    {
     "name": "stderr",
     "output_type": "stream",
     "text": [
      " 57%|█████▋    | 119/210 [00:01<00:01, 81.18it/s]<ipython-input-12-3c246c7e2016>(26): PubC-G3b-0602\n",
      "\t對話框:\"各組想想看，有什麼解決的方法？\">>\"我們可以寫信給區長，請他幫忙。\">>\"製作海報張貼在社區。\">>\"請學校發起淨灘活動。\"\n",
      "\t對話框:\"各組想想看，有什麼解決的方法？\"&gt;&gt;\"我們可以寫信給區長，請他幫忙。\"&gt;&gt;\"製作海報張貼在社區。\"&gt;&gt;\"請學校發起淨灘活動。\"\n",
      "\n",
      "100%|██████████| 210/210 [00:02<00:00, 79.69it/s]\n",
      " 33%|███▎      | 9/27 [00:00<00:00, 86.78it/s]"
     ]
    },
    {
     "name": "stdout",
     "output_type": "stream",
     "text": [
      "Train\n",
      "Counter({'true-false': 11131, 'multiple-choice': 4022, 'essay': 999, 'multiple-select': 191})\n"
     ]
    },
    {
     "name": "stderr",
     "output_type": "stream",
     "text": [
      "100%|██████████| 27/27 [00:00<00:00, 77.52it/s]\n",
      " 37%|███▋      | 10/27 [00:00<00:00, 97.40it/s]"
     ]
    },
    {
     "name": "stdout",
     "output_type": "stream",
     "text": [
      "Develop\n",
      "Counter({'true-false': 1508, 'multiple-choice': 789, 'essay': 208, 'multiple-select': 81})\n"
     ]
    },
    {
     "name": "stderr",
     "output_type": "stream",
     "text": [
      "100%|██████████| 27/27 [00:00<00:00, 78.91it/s]"
     ]
    },
    {
     "name": "stdout",
     "output_type": "stream",
     "text": [
      "Test\n",
      "Counter({'true-false': 1464, 'multiple-choice': 788, 'essay': 254, 'multiple-select': 68})\n"
     ]
    },
    {
     "name": "stderr",
     "output_type": "stream",
     "text": [
      "\n"
     ]
    }
   ],
   "source": [
    "q_num = 0\n",
    "\n",
    "for i_set in set_list:\n",
    "    type_counter = Counter()\n",
    "    for fp in tqdm(os.listdir(ssqa_fp+i_set)):\n",
    "        fp_c = ssqa_fp+i_set + '/' + fp\n",
    "        try:\n",
    "            p = ET.parse(fp_c).getroot()\n",
    "            assert p[0][0][1].tag == 'QAset'\n",
    "            q_num += len(p[0][0][1])\n",
    "            lesson_xml2txt(fp_c, type_counter)\n",
    "        except Exception as e:\n",
    "            print(e)\n",
    "            print(fp_c)\n",
    "    print(i_set)\n",
    "    print(type_counter)"
   ]
  },
  {
   "cell_type": "code",
   "execution_count": 18,
   "metadata": {},
   "outputs": [
    {
     "data": {
      "text/plain": [
       "21503"
      ]
     },
     "execution_count": 18,
     "metadata": {},
     "output_type": "execute_result"
    }
   ],
   "source": [
    "q_num"
   ]
  }
 ],
 "metadata": {
  "kernelspec": {
   "display_name": "Python 3",
   "language": "python",
   "name": "python3"
  },
  "language_info": {
   "codemirror_mode": {
    "name": "ipython",
    "version": 3
   },
   "file_extension": ".py",
   "mimetype": "text/x-python",
   "name": "python",
   "nbconvert_exporter": "python",
   "pygments_lexer": "ipython3",
   "version": "3.7.7"
  }
 },
 "nbformat": 4,
 "nbformat_minor": 4
}
